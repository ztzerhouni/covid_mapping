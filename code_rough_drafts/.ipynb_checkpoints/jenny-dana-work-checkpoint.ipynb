{
 "cells": [
  {
   "cell_type": "code",
   "execution_count": 1,
   "metadata": {},
   "outputs": [],
   "source": [
    "import numpy as np\n",
    "import pandas as pd\n",
    "import tweepy\n",
    "import pandas as pd\n",
    "import json\n",
    "from tweepy import OAuthHandler\n",
    "from tweepy import Stream\n",
    "from tweepy.streaming import StreamListener\n",
    "\n"
   ]
  },
  {
   "cell_type": "code",
   "execution_count": 2,
   "metadata": {},
   "outputs": [],
   "source": [
    "creds = {}\n",
    "creds['M7ws0JOoEuadpQyrRBKj6C6RJ'] = \"consumer_key\"\n",
    "creds['Cm5I6VX8jVQkCwoPniufImbuyNrLEUdDCfS79JGCRrVK7vshgk'] = \"consumer_secret\"\n",
    "creds['1303427067573399552-3W6sslbYwQGFdDnLlW78CJCSF69oOP'] = \"access_token\"\n",
    "creds['y981jEcBHW4MNhMCl6MtfmeOdeI9VWVm03ygFug46QaU8'] = \"access_token_secret\"\n"
   ]
  },
  {
   "cell_type": "code",
   "execution_count": 3,
   "metadata": {},
   "outputs": [],
   "source": [
    "with open(\"twitter_credentials.json\", \"w\") as file:\n",
    "    creds = json.dump(creds,file)"
   ]
  },
  {
   "cell_type": "code",
   "execution_count": 4,
   "metadata": {},
   "outputs": [],
   "source": [
    "auth = tweepy.OAuthHandler('M7ws0JOoEuadpQyrRBKj6C6RJ', 'Cm5I6VX8jVQkCwoPniufImbuyNrLEUdDCfS79JGCRrVK7vshgk')\n",
    "auth.set_access_token('1303427067573399552-3W6sslbYwQGFdDnLlW78CJCSF69oOP', 'y981jEcBHW4MNhMCl6MtfmeOdeI9VWVm03ygFug46QaU8')\n",
    "api = tweepy.API(auth, wait_on_rate_limit=True)\n"
   ]
  },
  {
   "cell_type": "code",
   "execution_count": 5,
   "metadata": {},
   "outputs": [],
   "source": [
    "date_since = \"2020-06-01\"\n"
   ]
  },
  {
   "cell_type": "code",
   "execution_count": 6,
   "metadata": {},
   "outputs": [
    {
     "data": {
      "text/plain": [
       "<tweepy.cursor.ItemIterator at 0x7fca51e2d890>"
      ]
     },
     "execution_count": 6,
     "metadata": {},
     "output_type": "execute_result"
    }
   ],
   "source": [
    "tweets = tweepy.Cursor(api.search,\n",
    "                       q=\"'covid' -filter:retweets\",\n",
    "                       lang=\"en\",\n",
    "                       toDate=date_since,\n",
    "                       result_type=\"mixed\",\n",
    "#                        since_id=since_id\n",
    "                      ).items(10)\n",
    "tweets"
   ]
  },
  {
   "cell_type": "code",
   "execution_count": 7,
   "metadata": {},
   "outputs": [],
   "source": [
    "tweets_json = [[\n",
    "                tweet.user.screen_name,\n",
    "                tweet.id_str,\n",
    "                tweet.created_at,\n",
    "                tweet.text\n",
    "                \n",
    "                ] for tweet in tweets]"
   ]
  },
  {
   "cell_type": "code",
   "execution_count": 8,
   "metadata": {},
   "outputs": [
    {
     "data": {
      "text/html": [
       "<div>\n",
       "<style scoped>\n",
       "    .dataframe tbody tr th:only-of-type {\n",
       "        vertical-align: middle;\n",
       "    }\n",
       "\n",
       "    .dataframe tbody tr th {\n",
       "        vertical-align: top;\n",
       "    }\n",
       "\n",
       "    .dataframe thead th {\n",
       "        text-align: right;\n",
       "    }\n",
       "</style>\n",
       "<table border=\"1\" class=\"dataframe\">\n",
       "  <thead>\n",
       "    <tr style=\"text-align: right;\">\n",
       "      <th></th>\n",
       "      <th>screen_name</th>\n",
       "      <th>id_str</th>\n",
       "      <th>created_at</th>\n",
       "      <th>text</th>\n",
       "    </tr>\n",
       "  </thead>\n",
       "  <tbody>\n",
       "    <tr>\n",
       "      <th>0</th>\n",
       "      <td>KanganaTeam</td>\n",
       "      <td>1303586065597440000</td>\n",
       "      <td>2020-09-09 06:48:32</td>\n",
       "      <td>There is no illegal construction in my house, ...</td>\n",
       "    </tr>\n",
       "    <tr>\n",
       "      <th>1</th>\n",
       "      <td>RealEricCarmen</td>\n",
       "      <td>1303393732687921154</td>\n",
       "      <td>2020-09-08 18:04:16</td>\n",
       "      <td>Why aren't all the homeless in San Francisco a...</td>\n",
       "    </tr>\n",
       "    <tr>\n",
       "      <th>2</th>\n",
       "      <td>LEBassett</td>\n",
       "      <td>1303754560255778819</td>\n",
       "      <td>2020-09-09 17:58:04</td>\n",
       "      <td>Let’s not forget that GOP senators also knew h...</td>\n",
       "    </tr>\n",
       "    <tr>\n",
       "      <th>3</th>\n",
       "      <td>InfangerBarbara</td>\n",
       "      <td>1303881884661772293</td>\n",
       "      <td>2020-09-10 02:24:00</td>\n",
       "      <td>Why? This thing ain’t over. \\n\\nGovernor Polis...</td>\n",
       "    </tr>\n",
       "    <tr>\n",
       "      <th>4</th>\n",
       "      <td>StarSeedNick</td>\n",
       "      <td>1303881882648694784</td>\n",
       "      <td>2020-09-10 02:24:00</td>\n",
       "      <td>@washingtonpost Over 99 percent recovery rate....</td>\n",
       "    </tr>\n",
       "    <tr>\n",
       "      <th>5</th>\n",
       "      <td>M23412963</td>\n",
       "      <td>1303881881591730176</td>\n",
       "      <td>2020-09-10 02:24:00</td>\n",
       "      <td>@WilliamJoy @ABC @wfaa Did Greg Abbott know th...</td>\n",
       "    </tr>\n",
       "    <tr>\n",
       "      <th>6</th>\n",
       "      <td>Buscrates</td>\n",
       "      <td>1303881881096781824</td>\n",
       "      <td>2020-09-10 02:24:00</td>\n",
       "      <td>NFL is back wtf? Who’s gonna win the Covid Bowl?</td>\n",
       "    </tr>\n",
       "    <tr>\n",
       "      <th>7</th>\n",
       "      <td>DirectFeedGames</td>\n",
       "      <td>1303881880757039104</td>\n",
       "      <td>2020-09-10 02:23:59</td>\n",
       "      <td>The delay of No More Heroes 3 isn't surprising...</td>\n",
       "    </tr>\n",
       "    <tr>\n",
       "      <th>8</th>\n",
       "      <td>RyanB1234321</td>\n",
       "      <td>1303881878693466112</td>\n",
       "      <td>2020-09-10 02:23:59</td>\n",
       "      <td>@daisymay0141 @mangoboii225 @TeriTurner111 @ma...</td>\n",
       "    </tr>\n",
       "    <tr>\n",
       "      <th>9</th>\n",
       "      <td>mustangmek66</td>\n",
       "      <td>1303881878626283521</td>\n",
       "      <td>2020-09-10 02:23:59</td>\n",
       "      <td>@paulcshipley @realDonaldTrump Go to the CDC ....</td>\n",
       "    </tr>\n",
       "  </tbody>\n",
       "</table>\n",
       "</div>"
      ],
      "text/plain": [
       "       screen_name               id_str          created_at  \\\n",
       "0      KanganaTeam  1303586065597440000 2020-09-09 06:48:32   \n",
       "1   RealEricCarmen  1303393732687921154 2020-09-08 18:04:16   \n",
       "2        LEBassett  1303754560255778819 2020-09-09 17:58:04   \n",
       "3  InfangerBarbara  1303881884661772293 2020-09-10 02:24:00   \n",
       "4     StarSeedNick  1303881882648694784 2020-09-10 02:24:00   \n",
       "5        M23412963  1303881881591730176 2020-09-10 02:24:00   \n",
       "6        Buscrates  1303881881096781824 2020-09-10 02:24:00   \n",
       "7  DirectFeedGames  1303881880757039104 2020-09-10 02:23:59   \n",
       "8     RyanB1234321  1303881878693466112 2020-09-10 02:23:59   \n",
       "9     mustangmek66  1303881878626283521 2020-09-10 02:23:59   \n",
       "\n",
       "                                                text  \n",
       "0  There is no illegal construction in my house, ...  \n",
       "1  Why aren't all the homeless in San Francisco a...  \n",
       "2  Let’s not forget that GOP senators also knew h...  \n",
       "3  Why? This thing ain’t over. \\n\\nGovernor Polis...  \n",
       "4  @washingtonpost Over 99 percent recovery rate....  \n",
       "5  @WilliamJoy @ABC @wfaa Did Greg Abbott know th...  \n",
       "6   NFL is back wtf? Who’s gonna win the Covid Bowl?  \n",
       "7  The delay of No More Heroes 3 isn't surprising...  \n",
       "8  @daisymay0141 @mangoboii225 @TeriTurner111 @ma...  \n",
       "9  @paulcshipley @realDonaldTrump Go to the CDC ....  "
      ]
     },
     "execution_count": 8,
     "metadata": {},
     "output_type": "execute_result"
    }
   ],
   "source": [
    "df = pd.DataFrame(tweets_json, columns = [\n",
    "                                        'screen_name',\n",
    "                                        'id_str',\n",
    "                                        'created_at',\n",
    "                                        'text'\n",
    "                                        ])\n",
    "\n",
    "df.head(30)"
   ]
  },
  {
   "cell_type": "code",
   "execution_count": null,
   "metadata": {},
   "outputs": [],
   "source": []
  },
  {
   "cell_type": "code",
   "execution_count": null,
   "metadata": {},
   "outputs": [],
   "source": []
  },
  {
   "cell_type": "code",
   "execution_count": null,
   "metadata": {},
   "outputs": [],
   "source": []
  }
 ],
 "metadata": {
  "kernelspec": {
   "display_name": "Python 3",
   "language": "python",
   "name": "python3"
  },
  "language_info": {
   "codemirror_mode": {
    "name": "ipython",
    "version": 3
   },
   "file_extension": ".py",
   "mimetype": "text/x-python",
   "name": "python",
   "nbconvert_exporter": "python",
   "pygments_lexer": "ipython3",
   "version": "3.7.7"
  }
 },
 "nbformat": 4,
 "nbformat_minor": 4
}
