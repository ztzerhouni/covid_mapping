{
 "cells": [
  {
   "cell_type": "code",
   "execution_count": null,
   "metadata": {},
   "outputs": [],
   "source": [
    "# pip install GetOldTweets3\n",
    "# run in terminal\n",
    "# jennyjames@Jennys-MacBook-Air Project5-Mapping-Covid-Hotspots % GetOldTweets3 \n",
    "#--querysearch \"covid\" --since 2020-05-01 --until 2020-05-02 --maxtweets 1000"
   ]
  },
  {
   "cell_type": "code",
   "execution_count": 1,
   "metadata": {},
   "outputs": [],
   "source": [
    "import GetOldTweets3 as got\n",
    "from pyquery import PyQuery\n",
    "import pandas as pd\n",
    "import os\n",
    "import glob\n",
    "import re\n",
    "import time"
   ]
  },
  {
   "cell_type": "code",
   "execution_count": 2,
   "metadata": {},
   "outputs": [],
   "source": [
    "# Define a function to request tweets within a certain time period\n",
    "def get_tweets(query, since, until, max_tweets,location, radius):\n",
    "    # Set our tweet criteria using GetOldTweets3\n",
    "    tweetCriteria = got.manager.TweetCriteria()\\\n",
    "                                            .setQuerySearch(query)\\\n",
    "                                            .setSince(since)\\\n",
    "                                            .setUntil(until)\\\n",
    "                                            .setMaxTweets(max_tweets)\\\n",
    "                                            .setNear(location)\\\n",
    "                                            .setWithin(radius)\n",
    "    \n",
    "    tweet = got.manager.TweetManager.getTweets(tweetCriteria)\n",
    "    return tweet"
   ]
  },
  {
   "cell_type": "code",
   "execution_count": 3,
   "metadata": {},
   "outputs": [],
   "source": [
    "def create_df(tweet):\n",
    "    total_list = []\n",
    "    for i in range(len(tweet)):\n",
    "        my_dict = {\n",
    "            \"id\" : tweet[i].id,\n",
    "            \"text\" : tweet[i].text,\n",
    "            \"date\" : tweet[i].date,\n",
    "            \"retweets\" : tweet[i].retweets,\n",
    "            \"favorites\" : tweet[i].favorites,\n",
    "            \"mentions\" : tweet[i].mentions,\n",
    "            \"hashtags\" : tweet[i].hashtags,\n",
    "            \"geo\" : tweet[i].geo  \n",
    "        }\n",
    "        total_list.append(my_dict)\n",
    "    return pd.DataFrame(total_list)"
   ]
  },
  {
   "cell_type": "code",
   "execution_count": 4,
   "metadata": {},
   "outputs": [],
   "source": [
    "def all_tweets(region, query, since, until,\n",
    "                max_tweets, location, radius):\n",
    "    t0 = time.time() \n",
    "    df = pd.DataFrame()\n",
    "    for i in range(len(since)):\n",
    "        x = get_tweets(query=query,\n",
    "                   since=since[i],\n",
    "                   until=until[i],\n",
    "                   max_tweets = max_tweets,\n",
    "                   location = location,\n",
    "                   radius = radius\n",
    "                  )\n",
    "        df = pd.concat([df,create_df(x)])\n",
    "        print(f\"Index {i}: week {since[i]} complete at {t0 - time.time()} seconds\")\n",
    "        #if i < len(since)-1:\n",
    "            #time.sleep(60)\n",
    "    print(f\"Final run time: {t0 - time.time()} seconds\")\n",
    "    df[\"region\"] = region\n",
    "    df.to_csv(f\"{region}_data.csv\")\n",
    "    return df"
   ]
  },
  {
   "cell_type": "code",
   "execution_count": 5,
   "metadata": {},
   "outputs": [],
   "source": [
    "since = [\"2020-08-30\", \"2020-08-31\",\"2020-09-01\",\"2020-09-02\",\"2020-09-03\",\n",
    "                        \"2020-09-04\",\"2020-09-05\"]\n",
    "until = [\"2020-08-31\",\"2020-09-01\",\"2020-09-02\",\"2020-09-03\",\n",
    "                        \"2020-09-04\",\"2020-09-05\",\"2020-09-06\"]"
   ]
  },
  {
   "cell_type": "code",
   "execution_count": 113,
   "metadata": {},
   "outputs": [
    {
     "name": "stdout",
     "output_type": "stream",
     "text": [
      "Index 0: week 2020-08-30 complete at -69.85161113739014 seconds\n",
      "Index 1: week 2020-08-31 complete at -143.1999032497406 seconds\n",
      "Index 2: week 2020-09-01 complete at -216.1521201133728 seconds\n",
      "Index 3: week 2020-09-02 complete at -290.97816610336304 seconds\n",
      "Index 4: week 2020-09-03 complete at -365.7623562812805 seconds\n",
      "Index 5: week 2020-09-04 complete at -437.02507519721985 seconds\n",
      "Index 6: week 2020-09-05 complete at -509.6995692253113 seconds\n",
      "Final run time: -509.69969630241394 seconds\n"
     ]
    }
   ],
   "source": [
    "sanantoniodf= all_tweets(\n",
    "                region =  \"SanAntonio_noquery\",\n",
    "                query = ' ',\n",
    "                since = since,\n",
    "                until = until,\n",
    "                max_tweets = 2000,\n",
    "                location = \"29.42412, -98.49363\",\n",
    "                radius = \"50km\")"
   ]
  },
  {
   "cell_type": "code",
   "execution_count": 115,
   "metadata": {},
   "outputs": [
    {
     "name": "stdout",
     "output_type": "stream",
     "text": [
      "<class 'pandas.core.frame.DataFrame'>\n",
      "Int64Index: 14000 entries, 0 to 1999\n",
      "Data columns (total 9 columns):\n",
      " #   Column     Non-Null Count  Dtype              \n",
      "---  ------     --------------  -----              \n",
      " 0   id         14000 non-null  object             \n",
      " 1   text       14000 non-null  object             \n",
      " 2   date       14000 non-null  datetime64[ns, UTC]\n",
      " 3   retweets   14000 non-null  int64              \n",
      " 4   favorites  14000 non-null  int64              \n",
      " 5   mentions   14000 non-null  object             \n",
      " 6   hashtags   14000 non-null  object             \n",
      " 7   geo        14000 non-null  object             \n",
      " 8   region     14000 non-null  object             \n",
      "dtypes: datetime64[ns, UTC](1), int64(2), object(6)\n",
      "memory usage: 1.1+ MB\n"
     ]
    }
   ],
   "source": [
    "sanantoniodf.info()"
   ]
  },
  {
   "cell_type": "code",
   "execution_count": 114,
   "metadata": {},
   "outputs": [
    {
     "data": {
      "text/plain": [
       "70"
      ]
     },
     "execution_count": 114,
     "metadata": {},
     "output_type": "execute_result"
    }
   ],
   "source": [
    "sanantonio_covid = sanantoniodf['text'].str.contains('covid|coronavirus', flags=re.IGNORECASE, regex=True).sum()\n",
    "sanantonio_covid"
   ]
  },
  {
   "cell_type": "code",
   "execution_count": 18,
   "metadata": {},
   "outputs": [
    {
     "name": "stdout",
     "output_type": "stream",
     "text": [
      "Index 0: week 2020-08-30 complete at -79.59963488578796 seconds\n",
      "Index 1: week 2020-08-31 complete at -156.0046091079712 seconds\n",
      "Index 2: week 2020-09-01 complete at -230.45148491859436 seconds\n",
      "Index 3: week 2020-09-02 complete at -306.67930912971497 seconds\n",
      "Index 4: week 2020-09-03 complete at -384.99329805374146 seconds\n",
      "Index 5: week 2020-09-04 complete at -460.30117201805115 seconds\n",
      "Index 6: week 2020-09-05 complete at -535.0186009407043 seconds\n",
      "Final run time: -535.0187568664551 seconds\n"
     ]
    }
   ],
   "source": [
    "austindf= all_tweets(\n",
    "                region =  \"Austin_noquery\",\n",
    "                query = ' ',\n",
    "                since = since,\n",
    "                until = until,\n",
    "                max_tweets = 2000,\n",
    "                location = \"30.26715, -97.74306\",\n",
    "                radius = \"30mi\")"
   ]
  },
  {
   "cell_type": "code",
   "execution_count": 19,
   "metadata": {},
   "outputs": [
    {
     "name": "stdout",
     "output_type": "stream",
     "text": [
      "<class 'pandas.core.frame.DataFrame'>\n",
      "Int64Index: 14000 entries, 0 to 1999\n",
      "Data columns (total 9 columns):\n",
      " #   Column     Non-Null Count  Dtype              \n",
      "---  ------     --------------  -----              \n",
      " 0   id         14000 non-null  object             \n",
      " 1   text       14000 non-null  object             \n",
      " 2   date       14000 non-null  datetime64[ns, UTC]\n",
      " 3   retweets   14000 non-null  int64              \n",
      " 4   favorites  14000 non-null  int64              \n",
      " 5   mentions   14000 non-null  object             \n",
      " 6   hashtags   14000 non-null  object             \n",
      " 7   geo        14000 non-null  object             \n",
      " 8   region     14000 non-null  object             \n",
      "dtypes: datetime64[ns, UTC](1), int64(2), object(6)\n",
      "memory usage: 1.1+ MB\n"
     ]
    }
   ],
   "source": [
    "austindf.info()"
   ]
  },
  {
   "cell_type": "code",
   "execution_count": 52,
   "metadata": {},
   "outputs": [
    {
     "data": {
      "text/plain": [
       "23"
      ]
     },
     "execution_count": 52,
     "metadata": {},
     "output_type": "execute_result"
    }
   ],
   "source": [
    "austin_covid = austindf['text'].str.contains('covid|coronavirus', flags=re.IGNORECASE, regex=True).sum()\n",
    "austin_covid"
   ]
  },
  {
   "cell_type": "code",
   "execution_count": 6,
   "metadata": {},
   "outputs": [
    {
     "name": "stdout",
     "output_type": "stream",
     "text": [
      "Index 0: week 2020-08-30 complete at -39.13537883758545 seconds\n",
      "Index 1: week 2020-08-31 complete at -76.28212809562683 seconds\n",
      "Index 2: week 2020-09-01 complete at -113.0121841430664 seconds\n",
      "Index 3: week 2020-09-02 complete at -146.60851979255676 seconds\n",
      "Index 4: week 2020-09-03 complete at -189.5925259590149 seconds\n",
      "Index 5: week 2020-09-04 complete at -226.9217779636383 seconds\n",
      "Index 6: week 2020-09-05 complete at -294.8976550102234 seconds\n",
      "Final run time: -294.89801597595215 seconds\n"
     ]
    }
   ],
   "source": [
    "corpusdf= all_tweets(\n",
    "                region =  \"Corpus_noquery\",\n",
    "                query = ' ',\n",
    "                since = since,\n",
    "                until = until,\n",
    "                max_tweets = 2000,\n",
    "                location = \"27.80058, -97.39638\",\n",
    "                radius = \"27mi\")"
   ]
  },
  {
   "cell_type": "code",
   "execution_count": 7,
   "metadata": {},
   "outputs": [
    {
     "name": "stdout",
     "output_type": "stream",
     "text": [
      "<class 'pandas.core.frame.DataFrame'>\n",
      "Int64Index: 8423 entries, 0 to 1999\n",
      "Data columns (total 9 columns):\n",
      " #   Column     Non-Null Count  Dtype              \n",
      "---  ------     --------------  -----              \n",
      " 0   id         8423 non-null   object             \n",
      " 1   text       8423 non-null   object             \n",
      " 2   date       8423 non-null   datetime64[ns, UTC]\n",
      " 3   retweets   8423 non-null   int64              \n",
      " 4   favorites  8423 non-null   int64              \n",
      " 5   mentions   8423 non-null   object             \n",
      " 6   hashtags   8423 non-null   object             \n",
      " 7   geo        8423 non-null   object             \n",
      " 8   region     8423 non-null   object             \n",
      "dtypes: datetime64[ns, UTC](1), int64(2), object(6)\n",
      "memory usage: 658.0+ KB\n"
     ]
    }
   ],
   "source": [
    "corpusdf.info()"
   ]
  },
  {
   "cell_type": "code",
   "execution_count": 8,
   "metadata": {},
   "outputs": [
    {
     "data": {
      "text/plain": [
       "38"
      ]
     },
     "execution_count": 8,
     "metadata": {},
     "output_type": "execute_result"
    }
   ],
   "source": [
    "corpus_covid = corpusdf['text'].str.contains('covid|coronavirus', flags=re.IGNORECASE, regex=True).sum()\n",
    "corpus_covid"
   ]
  },
  {
   "cell_type": "code",
   "execution_count": 9,
   "metadata": {},
   "outputs": [
    {
     "name": "stdout",
     "output_type": "stream",
     "text": [
      "Index 0: week 2020-08-30 complete at -13.65570616722107 seconds\n",
      "Index 1: week 2020-08-31 complete at -28.513996124267578 seconds\n",
      "Index 2: week 2020-09-01 complete at -43.93055319786072 seconds\n",
      "Index 3: week 2020-09-02 complete at -59.769742250442505 seconds\n",
      "Index 4: week 2020-09-03 complete at -74.17958116531372 seconds\n",
      "Index 5: week 2020-09-04 complete at -88.78139209747314 seconds\n",
      "Index 6: week 2020-09-05 complete at -137.1105191707611 seconds\n",
      "Final run time: -137.11062502861023 seconds\n"
     ]
    }
   ],
   "source": [
    "harlingen_df= all_tweets(\n",
    "                region =  \"Harlingen\",\n",
    "                query = ' ',\n",
    "                since = since,\n",
    "                until = until,\n",
    "                max_tweets = 2000,\n",
    "                location = \"26.190631, -97.696103\",\n",
    "                radius = \"13mi\")"
   ]
  },
  {
   "cell_type": "code",
   "execution_count": 10,
   "metadata": {},
   "outputs": [
    {
     "name": "stdout",
     "output_type": "stream",
     "text": [
      "<class 'pandas.core.frame.DataFrame'>\n",
      "Int64Index: 3877 entries, 0 to 1401\n",
      "Data columns (total 9 columns):\n",
      " #   Column     Non-Null Count  Dtype              \n",
      "---  ------     --------------  -----              \n",
      " 0   id         3877 non-null   object             \n",
      " 1   text       3877 non-null   object             \n",
      " 2   date       3877 non-null   datetime64[ns, UTC]\n",
      " 3   retweets   3877 non-null   int64              \n",
      " 4   favorites  3877 non-null   int64              \n",
      " 5   mentions   3877 non-null   object             \n",
      " 6   hashtags   3877 non-null   object             \n",
      " 7   geo        3877 non-null   object             \n",
      " 8   region     3877 non-null   object             \n",
      "dtypes: datetime64[ns, UTC](1), int64(2), object(6)\n",
      "memory usage: 302.9+ KB\n"
     ]
    }
   ],
   "source": [
    "harlingen_df.info()"
   ]
  },
  {
   "cell_type": "code",
   "execution_count": 63,
   "metadata": {},
   "outputs": [
    {
     "data": {
      "text/plain": [
       "15"
      ]
     },
     "execution_count": 63,
     "metadata": {},
     "output_type": "execute_result"
    }
   ],
   "source": [
    "harlingen_covid = harlingen_df['text'].str.contains('covid|coronavirus', flags=re.IGNORECASE, regex=True).sum()\n",
    "harlingen_covid"
   ]
  },
  {
   "cell_type": "code",
   "execution_count": 20,
   "metadata": {},
   "outputs": [
    {
     "name": "stdout",
     "output_type": "stream",
     "text": [
      "Index 0: week 2020-08-30 complete at -11.255651950836182 seconds\n",
      "Index 1: week 2020-08-31 complete at -25.579226970672607 seconds\n",
      "Index 2: week 2020-09-01 complete at -39.373236894607544 seconds\n",
      "Index 3: week 2020-09-02 complete at -48.297420024871826 seconds\n",
      "Index 4: week 2020-09-03 complete at -60.67626094818115 seconds\n",
      "Index 5: week 2020-09-04 complete at -72.08866286277771 seconds\n",
      "Index 6: week 2020-09-05 complete at -118.85316181182861 seconds\n",
      "Final run time: -118.85341501235962 seconds\n"
     ]
    }
   ],
   "source": [
    "brownsville_df= all_tweets(\n",
    "                region =  \"Brownsville\",\n",
    "                query = ' ',\n",
    "                since = since,\n",
    "                until = until,\n",
    "                max_tweets = 2000,\n",
    "                location = \"25.90175, -97.49748\",\n",
    "                radius = \"15mi\")"
   ]
  },
  {
   "cell_type": "code",
   "execution_count": 21,
   "metadata": {},
   "outputs": [
    {
     "name": "stdout",
     "output_type": "stream",
     "text": [
      "<class 'pandas.core.frame.DataFrame'>\n",
      "Int64Index: 2971 entries, 0 to 1172\n",
      "Data columns (total 9 columns):\n",
      " #   Column     Non-Null Count  Dtype              \n",
      "---  ------     --------------  -----              \n",
      " 0   id         2971 non-null   object             \n",
      " 1   text       2971 non-null   object             \n",
      " 2   date       2971 non-null   datetime64[ns, UTC]\n",
      " 3   retweets   2971 non-null   int64              \n",
      " 4   favorites  2971 non-null   int64              \n",
      " 5   mentions   2971 non-null   object             \n",
      " 6   hashtags   2971 non-null   object             \n",
      " 7   geo        2971 non-null   object             \n",
      " 8   region     2971 non-null   object             \n",
      "dtypes: datetime64[ns, UTC](1), int64(2), object(6)\n",
      "memory usage: 232.1+ KB\n"
     ]
    }
   ],
   "source": [
    "brownsville_df.info()"
   ]
  },
  {
   "cell_type": "code",
   "execution_count": 61,
   "metadata": {},
   "outputs": [
    {
     "data": {
      "text/plain": [
       "23"
      ]
     },
     "execution_count": 61,
     "metadata": {},
     "output_type": "execute_result"
    }
   ],
   "source": [
    "brownsville_covid = brownsville_df['text'].str.contains('covid|coronavirus', flags=re.IGNORECASE, regex=True).sum()\n",
    "brownsville_covid"
   ]
  },
  {
   "cell_type": "code",
   "execution_count": 22,
   "metadata": {},
   "outputs": [
    {
     "name": "stdout",
     "output_type": "stream",
     "text": [
      "Index 0: week 2020-08-30 complete at -46.48328876495361 seconds\n",
      "Index 1: week 2020-08-31 complete at -101.98462295532227 seconds\n",
      "Index 2: week 2020-09-01 complete at -160.03096985816956 seconds\n",
      "Index 3: week 2020-09-02 complete at -222.21433877944946 seconds\n",
      "Index 4: week 2020-09-03 complete at -281.4732780456543 seconds\n",
      "Index 5: week 2020-09-04 complete at -338.2280080318451 seconds\n",
      "Index 6: week 2020-09-05 complete at -414.6846339702606 seconds\n",
      "Final run time: -414.68477392196655 seconds\n"
     ]
    }
   ],
   "source": [
    "mcallen_df= all_tweets(\n",
    "                region =  \"Mcallen\",\n",
    "                query = ' ',\n",
    "                since = since,\n",
    "                until = until,\n",
    "                max_tweets = 2000,\n",
    "                location = \"26.209832494, -98.235165726\",\n",
    "                radius = \"25mi\")"
   ]
  },
  {
   "cell_type": "code",
   "execution_count": 23,
   "metadata": {},
   "outputs": [
    {
     "name": "stdout",
     "output_type": "stream",
     "text": [
      "<class 'pandas.core.frame.DataFrame'>\n",
      "Int64Index: 11035 entries, 0 to 1999\n",
      "Data columns (total 9 columns):\n",
      " #   Column     Non-Null Count  Dtype              \n",
      "---  ------     --------------  -----              \n",
      " 0   id         11035 non-null  object             \n",
      " 1   text       11035 non-null  object             \n",
      " 2   date       11035 non-null  datetime64[ns, UTC]\n",
      " 3   retweets   11035 non-null  int64              \n",
      " 4   favorites  11035 non-null  int64              \n",
      " 5   mentions   11035 non-null  object             \n",
      " 6   hashtags   11035 non-null  object             \n",
      " 7   geo        11035 non-null  object             \n",
      " 8   region     11035 non-null  object             \n",
      "dtypes: datetime64[ns, UTC](1), int64(2), object(6)\n",
      "memory usage: 862.1+ KB\n"
     ]
    }
   ],
   "source": [
    "mcallen_df.info()"
   ]
  },
  {
   "cell_type": "code",
   "execution_count": 66,
   "metadata": {},
   "outputs": [
    {
     "data": {
      "text/plain": [
       "31"
      ]
     },
     "execution_count": 66,
     "metadata": {},
     "output_type": "execute_result"
    }
   ],
   "source": [
    "mcallen_covid = mcallen_df['text'].str.contains('covid|coronavirus', flags=re.IGNORECASE, regex=True).sum()\n",
    "mcallen_covid"
   ]
  },
  {
   "cell_type": "code",
   "execution_count": 56,
   "metadata": {},
   "outputs": [
    {
     "name": "stdout",
     "output_type": "stream",
     "text": [
      "Index 0: week 2020-08-30 complete at -8.253138065338135 seconds\n",
      "Index 1: week 2020-08-31 complete at -16.476850032806396 seconds\n",
      "Index 2: week 2020-09-01 complete at -25.426342964172363 seconds\n",
      "Index 3: week 2020-09-02 complete at -25.70069694519043 seconds\n",
      "Index 4: week 2020-09-032020-09-04 complete at -26.054773092269897 seconds\n",
      "Index 5: week 2020-09-05 complete at -90.07138586044312 seconds\n",
      "Final run time: -90.07173585891724 seconds\n"
     ]
    }
   ],
   "source": [
    "sanangelodf= all_tweets(\n",
    "                region =  \"San Angelo\",\n",
    "                query = ' ',\n",
    "                since = since,\n",
    "                until = until,\n",
    "                max_tweets = 2000,\n",
    "                location = \"31.46377, -100.43704\",\n",
    "                radius = \"10mi\")"
   ]
  },
  {
   "cell_type": "code",
   "execution_count": null,
   "metadata": {},
   "outputs": [],
   "source": [
    "sanangelodf.info()"
   ]
  },
  {
   "cell_type": "code",
   "execution_count": 57,
   "metadata": {},
   "outputs": [
    {
     "data": {
      "text/plain": [
       "29"
      ]
     },
     "execution_count": 57,
     "metadata": {},
     "output_type": "execute_result"
    }
   ],
   "source": [
    "sanangelo_covid = sanangelodf['text'].str.contains('covid|coronavirus', flags=re.IGNORECASE, regex=True).sum()\n",
    "sanangelo_covid"
   ]
  },
  {
   "cell_type": "code",
   "execution_count": null,
   "metadata": {},
   "outputs": [],
   "source": [
    "29.36273 -100.89676"
   ]
  },
  {
   "cell_type": "code",
   "execution_count": 16,
   "metadata": {},
   "outputs": [
    {
     "name": "stdout",
     "output_type": "stream",
     "text": [
      "Index 0: week 2020-08-30 complete at -1.29939603805542 seconds\n",
      "Index 1: week 2020-08-31 complete at -3.3862709999084473 seconds\n",
      "Index 2: week 2020-09-01 complete at -4.838222980499268 seconds\n",
      "Index 3: week 2020-09-02 complete at -6.224836826324463 seconds\n",
      "Index 4: week 2020-09-03 complete at -7.373722791671753 seconds\n",
      "Index 5: week 2020-09-04 complete at -9.507888793945312 seconds\n",
      "Index 6: week 2020-09-05 complete at -16.0132999420166 seconds\n",
      "Final run time: -16.013543844223022 seconds\n"
     ]
    }
   ],
   "source": [
    "delriodf= all_tweets(\n",
    "                region =  \"Del Rio\",\n",
    "                query = ' ',\n",
    "                since = since,\n",
    "                until = until,\n",
    "                max_tweets = 2000,\n",
    "                location = \"29.36273, -100.89676\",\n",
    "                radius = \"20mi\")"
   ]
  },
  {
   "cell_type": "code",
   "execution_count": 17,
   "metadata": {},
   "outputs": [
    {
     "name": "stdout",
     "output_type": "stream",
     "text": [
      "<class 'pandas.core.frame.DataFrame'>\n",
      "Int64Index: 380 entries, 0 to 174\n",
      "Data columns (total 9 columns):\n",
      " #   Column     Non-Null Count  Dtype              \n",
      "---  ------     --------------  -----              \n",
      " 0   id         380 non-null    object             \n",
      " 1   text       380 non-null    object             \n",
      " 2   date       380 non-null    datetime64[ns, UTC]\n",
      " 3   retweets   380 non-null    int64              \n",
      " 4   favorites  380 non-null    int64              \n",
      " 5   mentions   380 non-null    object             \n",
      " 6   hashtags   380 non-null    object             \n",
      " 7   geo        380 non-null    object             \n",
      " 8   region     380 non-null    object             \n",
      "dtypes: datetime64[ns, UTC](1), int64(2), object(6)\n",
      "memory usage: 29.7+ KB\n"
     ]
    }
   ],
   "source": [
    "delriodf.info()"
   ]
  },
  {
   "cell_type": "code",
   "execution_count": 72,
   "metadata": {},
   "outputs": [
    {
     "data": {
      "text/plain": [
       "4"
      ]
     },
     "execution_count": 72,
     "metadata": {},
     "output_type": "execute_result"
    }
   ],
   "source": [
    "delrio_covid = delriodf['text'].str.contains('covid|coronavirus', flags=re.IGNORECASE, regex=True).sum()\n",
    "delrio_covid"
   ]
  },
  {
   "cell_type": "code",
   "execution_count": null,
   "metadata": {},
   "outputs": [],
   "source": [
    "30.181729, -99.010617"
   ]
  },
  {
   "cell_type": "code",
   "execution_count": 75,
   "metadata": {},
   "outputs": [
    {
     "name": "stdout",
     "output_type": "stream",
     "text": [
      "Index 0: week 2020-08-30 complete at -4.27155613899231 seconds\n",
      "Index 1: week 2020-08-31 complete at -7.8383989334106445 seconds\n",
      "Index 2: week 2020-09-01 complete at -12.179133892059326 seconds\n",
      "Index 3: week 2020-09-02 complete at -12.449790000915527 seconds\n",
      "Index 4: week 2020-09-032020-09-04 complete at -12.748046159744263 seconds\n",
      "Index 5: week 2020-09-05 complete at -50.84703803062439 seconds\n",
      "Final run time: -50.84724307060242 seconds\n"
     ]
    }
   ],
   "source": [
    "kerrfreddf= all_tweets(\n",
    "                region =  \"Kerrville Fredericksburg\",\n",
    "                query = ' ',\n",
    "                since = since,\n",
    "                until = until,\n",
    "                max_tweets = 2000,\n",
    "                location = \"30.181729, -99.010617\",\n",
    "                radius = \"17mi\")"
   ]
  },
  {
   "cell_type": "code",
   "execution_count": null,
   "metadata": {},
   "outputs": [],
   "source": [
    "kerrfreddf.info()"
   ]
  },
  {
   "cell_type": "code",
   "execution_count": 76,
   "metadata": {},
   "outputs": [
    {
     "data": {
      "text/plain": [
       "5"
      ]
     },
     "execution_count": 76,
     "metadata": {},
     "output_type": "execute_result"
    }
   ],
   "source": [
    "kerrfred_covid = kerrfreddf['text'].str.contains('covid|coronavirus', flags=re.IGNORECASE, regex=True).sum()\n",
    "kerrfred_covid"
   ]
  },
  {
   "cell_type": "code",
   "execution_count": 78,
   "metadata": {},
   "outputs": [
    {
     "name": "stdout",
     "output_type": "stream",
     "text": [
      "Index 0: week 2020-08-30 complete at -46.97808313369751 seconds\n",
      "Index 1: week 2020-08-31 complete at -94.15696811676025 seconds\n",
      "Index 2: week 2020-09-01 complete at -150.17968916893005 seconds\n",
      "Index 3: week 2020-09-02 complete at -150.48927807807922 seconds\n",
      "Index 4: week 2020-09-032020-09-04 complete at -150.83588027954102 seconds\n",
      "Index 5: week 2020-09-05 complete at -222.3087751865387 seconds\n",
      "Final run time: -222.30893683433533 seconds\n"
     ]
    }
   ],
   "source": [
    "smnbsdf = all_tweets(\n",
    "                region =  \"San Marcos New Braunfels Seguin\",\n",
    "                query = ' ',\n",
    "                since = since,\n",
    "                until = until,\n",
    "                max_tweets = 2000,\n",
    "                location = \"29.710683, -97.979395\",\n",
    "                radius = \"17mi\")"
   ]
  },
  {
   "cell_type": "code",
   "execution_count": null,
   "metadata": {},
   "outputs": [],
   "source": [
    "smnbsdf.info()"
   ]
  },
  {
   "cell_type": "code",
   "execution_count": 79,
   "metadata": {},
   "outputs": [
    {
     "data": {
      "text/plain": [
       "33"
      ]
     },
     "execution_count": 79,
     "metadata": {},
     "output_type": "execute_result"
    }
   ],
   "source": [
    "smnbs_covid = smnbsdf['text'].str.contains('covid|coronavirus', flags=re.IGNORECASE, regex=True).sum()\n",
    "smnbs_covid"
   ]
  },
  {
   "cell_type": "code",
   "execution_count": 80,
   "metadata": {},
   "outputs": [
    {
     "name": "stdout",
     "output_type": "stream",
     "text": [
      "Index 0: week 2020-08-30 complete at -3.5482399463653564 seconds\n",
      "Index 1: week 2020-08-31 complete at -7.587192058563232 seconds\n",
      "Index 2: week 2020-09-01 complete at -13.229912996292114 seconds\n",
      "Index 3: week 2020-09-02 complete at -13.512822151184082 seconds\n",
      "Index 4: week 2020-09-032020-09-04 complete at -13.86207103729248 seconds\n",
      "Index 5: week 2020-09-05 complete at -85.18466806411743 seconds\n",
      "Final run time: -85.18483686447144 seconds\n"
     ]
    }
   ],
   "source": [
    "lufkindf = all_tweets(\n",
    "                region =  \"Lufkin\",\n",
    "                query = ' ',\n",
    "                since = since,\n",
    "                until = until,\n",
    "                max_tweets = 2000,\n",
    "                location = \"31.338242, -94.729095\",\n",
    "                radius = \"7mi\")"
   ]
  },
  {
   "cell_type": "code",
   "execution_count": null,
   "metadata": {},
   "outputs": [],
   "source": [
    "lufkindf.info()"
   ]
  },
  {
   "cell_type": "code",
   "execution_count": 81,
   "metadata": {},
   "outputs": [
    {
     "data": {
      "text/plain": [
       "22"
      ]
     },
     "execution_count": 81,
     "metadata": {},
     "output_type": "execute_result"
    }
   ],
   "source": [
    "lufkin_covid = lufkindf['text'].str.contains('covid|coronavirus', flags=re.IGNORECASE, regex=True).sum()\n",
    "lufkin_covid"
   ]
  },
  {
   "cell_type": "code",
   "execution_count": 107,
   "metadata": {},
   "outputs": [
    {
     "name": "stdout",
     "output_type": "stream",
     "text": [
      "Index 0: week 2020-08-30 complete at -4.927123069763184 seconds\n",
      "Index 1: week 2020-08-31 complete at -9.774760961532593 seconds\n",
      "Index 2: week 2020-09-01 complete at -15.02819013595581 seconds\n",
      "Index 3: week 2020-09-02 complete at -15.291391134262085 seconds\n",
      "Index 4: week 2020-09-032020-09-04 complete at -15.674443006515503 seconds\n",
      "Index 5: week 2020-09-05 complete at -57.21072793006897 seconds\n",
      "Final run time: -57.21092414855957 seconds\n"
     ]
    }
   ],
   "source": [
    "eaglepassdf = all_tweets(\n",
    "                region =  \"Eagle Pass\",\n",
    "                query = ' ',\n",
    "                since = since,\n",
    "                until = until,\n",
    "                max_tweets = 2000,\n",
    "                location = \"28.709143, -100.499519\",\n",
    "                radius = \"6mi\")"
   ]
  },
  {
   "cell_type": "code",
   "execution_count": null,
   "metadata": {},
   "outputs": [],
   "source": [
    "eaglepassdf.info()"
   ]
  },
  {
   "cell_type": "code",
   "execution_count": 108,
   "metadata": {},
   "outputs": [
    {
     "data": {
      "text/plain": [
       "41"
      ]
     },
     "execution_count": 108,
     "metadata": {},
     "output_type": "execute_result"
    }
   ],
   "source": [
    "eaglepass_covid = eaglepassdf['text'].str.contains('covid|coronavirus', flags=re.IGNORECASE, regex=True).sum()\n",
    "eaglepass_covid"
   ]
  },
  {
   "cell_type": "code",
   "execution_count": 13,
   "metadata": {},
   "outputs": [
    {
     "name": "stdout",
     "output_type": "stream",
     "text": [
      "Index 0: week 2020-08-30 complete at -0.62679123878479 seconds\n",
      "Index 1: week 2020-08-31 complete at -1.354038953781128 seconds\n",
      "Index 2: week 2020-09-01 complete at -2.0228431224823 seconds\n",
      "Index 3: week 2020-09-02 complete at -2.7629010677337646 seconds\n",
      "Index 4: week 2020-09-03 complete at -3.4909720420837402 seconds\n",
      "Index 5: week 2020-09-04 complete at -4.096035003662109 seconds\n",
      "Index 6: week 2020-09-05 complete at -4.857554197311401 seconds\n",
      "Final run time: -4.857725143432617 seconds\n"
     ]
    }
   ],
   "source": [
    "dalhartdf = all_tweets(\n",
    "                region =  \"Dalhart\",\n",
    "                query = ' ',\n",
    "                since = since,\n",
    "                until = until,\n",
    "                max_tweets = 2000,\n",
    "                location = \"36.0565, -102.5178\",\n",
    "                radius = \"5mi\")"
   ]
  },
  {
   "cell_type": "code",
   "execution_count": 15,
   "metadata": {},
   "outputs": [
    {
     "name": "stdout",
     "output_type": "stream",
     "text": [
      "<class 'pandas.core.frame.DataFrame'>\n",
      "Int64Index: 51 entries, 0 to 8\n",
      "Data columns (total 9 columns):\n",
      " #   Column     Non-Null Count  Dtype              \n",
      "---  ------     --------------  -----              \n",
      " 0   id         51 non-null     object             \n",
      " 1   text       51 non-null     object             \n",
      " 2   date       51 non-null     datetime64[ns, UTC]\n",
      " 3   retweets   51 non-null     int64              \n",
      " 4   favorites  51 non-null     int64              \n",
      " 5   mentions   51 non-null     object             \n",
      " 6   hashtags   51 non-null     object             \n",
      " 7   geo        51 non-null     object             \n",
      " 8   region     51 non-null     object             \n",
      "dtypes: datetime64[ns, UTC](1), int64(2), object(6)\n",
      "memory usage: 4.0+ KB\n"
     ]
    }
   ],
   "source": [
    "dalhartdf.info()"
   ]
  },
  {
   "cell_type": "code",
   "execution_count": 91,
   "metadata": {},
   "outputs": [
    {
     "data": {
      "text/plain": [
       "1"
      ]
     },
     "execution_count": 91,
     "metadata": {},
     "output_type": "execute_result"
    }
   ],
   "source": [
    "dalhart_covid = dalhartdf['text'].str.contains('covid|coronavirus', flags=re.IGNORECASE, regex=True).sum()\n",
    "dalhart_covid"
   ]
  },
  {
   "cell_type": "code",
   "execution_count": 105,
   "metadata": {},
   "outputs": [
    {
     "name": "stdout",
     "output_type": "stream",
     "text": [
      "Index 0: week 2020-08-30 complete at -5.321972846984863 seconds\n",
      "Index 1: week 2020-08-31 complete at -10.065654039382935 seconds\n",
      "Index 2: week 2020-09-01 complete at -15.618545770645142 seconds\n",
      "Index 3: week 2020-09-02 complete at -15.946345806121826 seconds\n",
      "Index 4: week 2020-09-032020-09-04 complete at -16.29853391647339 seconds\n",
      "Index 5: week 2020-09-05 complete at -87.96019577980042 seconds\n",
      "Final run time: -87.96040773391724 seconds\n"
     ]
    }
   ],
   "source": [
    "rockportdf = all_tweets(\n",
    "                region =  \"Rockport\",\n",
    "                query = ' ',\n",
    "                since = since,\n",
    "                until = until,\n",
    "                max_tweets = 2000,\n",
    "                location = \"28.0253, -97.0500\",\n",
    "                radius = \"20mi\")"
   ]
  },
  {
   "cell_type": "code",
   "execution_count": null,
   "metadata": {},
   "outputs": [],
   "source": [
    "rockportdf.info()"
   ]
  },
  {
   "cell_type": "code",
   "execution_count": 106,
   "metadata": {},
   "outputs": [
    {
     "data": {
      "text/plain": [
       "11"
      ]
     },
     "execution_count": 106,
     "metadata": {},
     "output_type": "execute_result"
    }
   ],
   "source": [
    "rockport_covid = rockportdf['text'].str.contains('covid|coronavirus', flags=re.IGNORECASE, regex=True).sum()\n",
    "rockport_covid"
   ]
  }
 ],
 "metadata": {
  "kernelspec": {
   "display_name": "Python 3",
   "language": "python",
   "name": "python3"
  },
  "language_info": {
   "codemirror_mode": {
    "name": "ipython",
    "version": 3
   },
   "file_extension": ".py",
   "mimetype": "text/x-python",
   "name": "python",
   "nbconvert_exporter": "python",
   "pygments_lexer": "ipython3",
   "version": "3.7.7"
  }
 },
 "nbformat": 4,
 "nbformat_minor": 4
}
