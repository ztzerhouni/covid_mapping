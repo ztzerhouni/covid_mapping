{
 "cells": [
  {
   "cell_type": "markdown",
   "metadata": {},
   "source": [
    "## Scraping tweets from El Paso, Lubbock, Amarillo, Laredo, Odessa, and Aberline\n"
   ]
  },
  {
   "cell_type": "code",
   "execution_count": 1,
   "metadata": {},
   "outputs": [],
   "source": [
    "import numpy as np\n",
    "import pandas as pd\n",
    "import GetOldTweets3 as got\n",
    "import time\n",
    "from calendar import Calendar, monthrange\n",
    "from datetime import datetime, timedelta\n",
    "import re"
   ]
  },
  {
   "cell_type": "code",
   "execution_count": 2,
   "metadata": {},
   "outputs": [],
   "source": [
    "# Define a function to request tweets within a certain time period\n",
    "def get_tweets(query, since, until, max_tweets,location, radius):\n",
    "    # Set our tweet criteria using GetOldTweets3\n",
    "    tweetCriteria = got.manager.TweetCriteria()\\\n",
    "                                            .setQuerySearch(query)\\\n",
    "                                            .setSince(since)\\\n",
    "                                            .setUntil(until)\\\n",
    "                                            .setMaxTweets(max_tweets)\\\n",
    "                                            .setNear(location)\\\n",
    "                                            .setWithin(radius)\n",
    "    \n",
    "    tweet = got.manager.TweetManager.getTweets(tweetCriteria)\n",
    "    return tweet"
   ]
  },
  {
   "cell_type": "code",
   "execution_count": 3,
   "metadata": {},
   "outputs": [],
   "source": [
    "def create_df(tweet):\n",
    "    total_list = []\n",
    "    for i in range(len(tweet)):\n",
    "        my_dict = {\n",
    "            \"id\" : tweet[i].id,\n",
    "            \"text\" : tweet[i].text,\n",
    "            \"date\" : tweet[i].date,\n",
    "            \"retweets\" : tweet[i].retweets,\n",
    "            \"favorites\" : tweet[i].favorites,\n",
    "            \"mentions\" : tweet[i].mentions,\n",
    "            \"hashtags\" : tweet[i].hashtags,\n",
    "            \"geo\" : tweet[i].geo  \n",
    "        }\n",
    "        total_list.append(my_dict)\n",
    "    return pd.DataFrame(total_list)"
   ]
  },
  {
   "cell_type": "code",
   "execution_count": 4,
   "metadata": {},
   "outputs": [],
   "source": [
    "since_list = [\"2020-08-30\", \"2020-08-31\", \"2020-09-01\", \"2020-09-02\", \"2020-09-03\", \"2020-09-04\", \"2020-09-05\"]\n",
    "\n",
    "until_list = [\"2020-08-31\", \"2020-09-01\", \"2020-09-02\", \"2020-09-03\", \"2020-09-04\", \"2020-09-05\",\"2020-09-06\"]"
   ]
  },
  {
   "cell_type": "code",
   "execution_count": 5,
   "metadata": {},
   "outputs": [],
   "source": [
    "def all_tweets(region, query, since, until,\n",
    "                max_tweets, location, radius):\n",
    "    t0 = time.time() \n",
    "    df = pd.DataFrame()\n",
    "    for i in range(len(since)):\n",
    "        x = get_tweets(query=query,\n",
    "                   since=since[i],\n",
    "                   until=until[i],\n",
    "                   max_tweets = max_tweets,\n",
    "                   location = location,\n",
    "                   radius = radius\n",
    "                  )\n",
    "        df = pd.concat([df,create_df(x)])\n",
    "        print(f\"Index {i}: day {since_list[i]} complete at {t0 - time.time()} seconds\")\n",
    "        if i < len(since)-1:\n",
    "            time.sleep(60)\n",
    "    print(f\"Final run time: {t0 - time.time()} seconds\")\n",
    "    df[\"region\"] = region\n",
    "    df.to_csv(f\"{region}_data.csv\")\n",
    "    return df"
   ]
  },
  {
   "cell_type": "code",
   "execution_count": 6,
   "metadata": {},
   "outputs": [
    {
     "name": "stdout",
     "output_type": "stream",
     "text": [
      "Index 0: day 2020-08-30 complete at -50.82333016395569 seconds\n",
      "Index 1: day 2020-08-31 complete at -164.36766815185547 seconds\n",
      "Index 2: day 2020-09-01 complete at -279.12176632881165 seconds\n",
      "Index 3: day 2020-09-02 complete at -394.385538816452 seconds\n",
      "Index 4: day 2020-09-03 complete at -510.3688943386078 seconds\n",
      "Index 5: day 2020-09-04 complete at -621.6554050445557 seconds\n",
      "Index 6: day 2020-09-05 complete at -733.039519071579 seconds\n",
      "Final run time: -733.0405173301697 seconds\n"
     ]
    }
   ],
   "source": [
    "el_paso = all_tweets(\n",
    "                region =  \"El_Paso\",\n",
    "                query = ' ',\n",
    "                since = since_list,\n",
    "                until = until_list,\n",
    "                max_tweets = 2000,\n",
    "                location = \"31.7619, -106.4850\",\n",
    "                radius = \"20mi\")"
   ]
  },
  {
   "cell_type": "code",
   "execution_count": 7,
   "metadata": {},
   "outputs": [
    {
     "data": {
      "text/plain": [
       "71"
      ]
     },
     "execution_count": 7,
     "metadata": {},
     "output_type": "execute_result"
    }
   ],
   "source": [
    "el_paso_covid = el_paso['text'].str.contains('covid|coronavirus', flags=re.IGNORECASE, regex=True).sum()\n",
    "el_paso_covid\n",
    "\n",
    "#s1.str.contains('PARROT', flags=re.IGNORECASE, regex=True)\n",
    "#mel_count=a['Names'].str.contains('Mel').sum()\n",
    "#https://pandas.pydata.org/pandas-docs/stable/reference/api/pandas.Series.str.contains.html#pandas.Series.str.contains"
   ]
  },
  {
   "cell_type": "code",
   "execution_count": 9,
   "metadata": {},
   "outputs": [
    {
     "name": "stdout",
     "output_type": "stream",
     "text": [
      "Index 0: day 2020-08-30 complete at -19.78313636779785 seconds\n",
      "Index 1: day 2020-08-31 complete at -99.768381357193 seconds\n",
      "Index 2: day 2020-09-01 complete at -180.91333079338074 seconds\n",
      "Index 3: day 2020-09-02 complete at -262.95881700515747 seconds\n",
      "Index 4: day 2020-09-03 complete at -343.6849386692047 seconds\n",
      "Index 5: day 2020-09-04 complete at -456.7159893512726 seconds\n",
      "Index 6: day 2020-09-05 complete at -569.8150525093079 seconds\n",
      "Final run time: -569.8150525093079 seconds\n"
     ]
    }
   ],
   "source": [
    "lubbock = all_tweets(\n",
    "                region =  \"Lubbock\",\n",
    "                query = ' ',\n",
    "                since = since_list,\n",
    "                until = until_list,\n",
    "                max_tweets = 2000,\n",
    "                location = \"33.5779, -101.8552\",\n",
    "                radius = \"12mi\")"
   ]
  },
  {
   "cell_type": "code",
   "execution_count": 10,
   "metadata": {},
   "outputs": [
    {
     "data": {
      "text/plain": [
       "107"
      ]
     },
     "execution_count": 10,
     "metadata": {},
     "output_type": "execute_result"
    }
   ],
   "source": [
    "lubbock_covid= lubbock['text'].str.contains('covid|coronavirus', flags=re.IGNORECASE, regex=True).sum()\n",
    "lubbock_covid"
   ]
  },
  {
   "cell_type": "code",
   "execution_count": 11,
   "metadata": {},
   "outputs": [
    {
     "name": "stdout",
     "output_type": "stream",
     "text": [
      "Index 0: day 2020-08-30 complete at -5.616105318069458 seconds\n"
     ]
    },
    {
     "ename": "KeyboardInterrupt",
     "evalue": "",
     "output_type": "error",
     "traceback": [
      "\u001b[1;31m---------------------------------------------------------------------------\u001b[0m",
      "\u001b[1;31mKeyboardInterrupt\u001b[0m                         Traceback (most recent call last)",
      "\u001b[1;32m<ipython-input-11-4572919c15ad>\u001b[0m in \u001b[0;36m<module>\u001b[1;34m\u001b[0m\n\u001b[0;32m      6\u001b[0m                 \u001b[0mmax_tweets\u001b[0m \u001b[1;33m=\u001b[0m \u001b[1;36m2000\u001b[0m\u001b[1;33m,\u001b[0m\u001b[1;33m\u001b[0m\u001b[1;33m\u001b[0m\u001b[0m\n\u001b[0;32m      7\u001b[0m                 \u001b[0mlocation\u001b[0m \u001b[1;33m=\u001b[0m \u001b[1;34m\"35.2220, -101.8313\"\u001b[0m\u001b[1;33m,\u001b[0m\u001b[1;33m\u001b[0m\u001b[1;33m\u001b[0m\u001b[0m\n\u001b[1;32m----> 8\u001b[1;33m                 radius = \"13mi\")\n\u001b[0m",
      "\u001b[1;32m<ipython-input-5-b51ef92beaec>\u001b[0m in \u001b[0;36mall_tweets\u001b[1;34m(region, query, since, until, max_tweets, location, radius)\u001b[0m\n\u001b[0;32m     14\u001b[0m         \u001b[0mprint\u001b[0m\u001b[1;33m(\u001b[0m\u001b[1;34mf\"Index {i}: day {since_list[i]} complete at {t0 - time.time()} seconds\"\u001b[0m\u001b[1;33m)\u001b[0m\u001b[1;33m\u001b[0m\u001b[1;33m\u001b[0m\u001b[0m\n\u001b[0;32m     15\u001b[0m         \u001b[1;32mif\u001b[0m \u001b[0mi\u001b[0m \u001b[1;33m<\u001b[0m \u001b[0mlen\u001b[0m\u001b[1;33m(\u001b[0m\u001b[0msince\u001b[0m\u001b[1;33m)\u001b[0m\u001b[1;33m-\u001b[0m\u001b[1;36m1\u001b[0m\u001b[1;33m:\u001b[0m\u001b[1;33m\u001b[0m\u001b[1;33m\u001b[0m\u001b[0m\n\u001b[1;32m---> 16\u001b[1;33m             \u001b[0mtime\u001b[0m\u001b[1;33m.\u001b[0m\u001b[0msleep\u001b[0m\u001b[1;33m(\u001b[0m\u001b[1;36m60\u001b[0m\u001b[1;33m)\u001b[0m\u001b[1;33m\u001b[0m\u001b[1;33m\u001b[0m\u001b[0m\n\u001b[0m\u001b[0;32m     17\u001b[0m     \u001b[0mprint\u001b[0m\u001b[1;33m(\u001b[0m\u001b[1;34mf\"Final run time: {t0 - time.time()} seconds\"\u001b[0m\u001b[1;33m)\u001b[0m\u001b[1;33m\u001b[0m\u001b[1;33m\u001b[0m\u001b[0m\n\u001b[0;32m     18\u001b[0m     \u001b[0mdf\u001b[0m\u001b[1;33m[\u001b[0m\u001b[1;34m\"region\"\u001b[0m\u001b[1;33m]\u001b[0m \u001b[1;33m=\u001b[0m \u001b[0mregion\u001b[0m\u001b[1;33m\u001b[0m\u001b[1;33m\u001b[0m\u001b[0m\n",
      "\u001b[1;31mKeyboardInterrupt\u001b[0m: "
     ]
    }
   ],
   "source": [
    "amarillo = all_tweets(\n",
    "                region =  \"Amarillo\",\n",
    "                query = ' ',\n",
    "                since = since_list,\n",
    "                until = until_list,\n",
    "                max_tweets = 2000,\n",
    "                location = \"35.2220, -101.8313\",\n",
    "                radius = \"13mi\")"
   ]
  },
  {
   "cell_type": "code",
   "execution_count": null,
   "metadata": {},
   "outputs": [],
   "source": [
    "amarillo_covid = amarillo['text'].str.contains('covid|coronavirus', flags=re.IGNORECASE, regex=True).sum()\n",
    "amarillo_covid"
   ]
  },
  {
   "cell_type": "code",
   "execution_count": null,
   "metadata": {},
   "outputs": [],
   "source": [
    "laredo = all_tweets(\n",
    "                region =  \"Laredo\",\n",
    "                query = ' ',\n",
    "                since = since_list,\n",
    "                until = until_list,\n",
    "                max_tweets = 2000,\n",
    "                location = \"27.5199841,-99.4953764\",\n",
    "                radius = \"9mi\")"
   ]
  },
  {
   "cell_type": "code",
   "execution_count": null,
   "metadata": {},
   "outputs": [],
   "source": [
    "laredo_covid = laredo['text'].str.contains('covid|coronavirus', flags=re.IGNORECASE, regex=True).sum()\n",
    "laredo_covid"
   ]
  },
  {
   "cell_type": "code",
   "execution_count": null,
   "metadata": {},
   "outputs": [],
   "source": [
    "odessa = all_tweets(\n",
    "                region =  \"Odessa\",\n",
    "                query = ' ',\n",
    "                since = since_list,\n",
    "                until = until_list,\n",
    "                max_tweets = 2000,\n",
    "                location = \"31.8457, -102.3676\",\n",
    "                radius = \"14mi\")"
   ]
  },
  {
   "cell_type": "code",
   "execution_count": null,
   "metadata": {},
   "outputs": [],
   "source": [
    "odessa_covid = odessa['text'].str.contains('covid|coronavirus', flags=re.IGNORECASE, regex=True).sum()\n",
    "odessa_covid"
   ]
  },
  {
   "cell_type": "code",
   "execution_count": null,
   "metadata": {},
   "outputs": [],
   "source": [
    "abilene = all_tweets(\n",
    "                region =  \"Abilene\",\n",
    "                query = ' ',\n",
    "                since = since_list,\n",
    "                until = until_list,\n",
    "                max_tweets = 2000,\n",
    "                location = \"32.4487, -99.7331\",\n",
    "                radius = \"9mi\")"
   ]
  },
  {
   "cell_type": "code",
   "execution_count": null,
   "metadata": {},
   "outputs": [],
   "source": [
    "abilene_covid = abilene['text'].str.contains('covid|coronavirus', flags=re.IGNORECASE, regex=True).sum()\n",
    "abilene_covid"
   ]
  },
  {
   "cell_type": "code",
   "execution_count": null,
   "metadata": {},
   "outputs": [],
   "source": []
  },
  {
   "cell_type": "code",
   "execution_count": null,
   "metadata": {},
   "outputs": [],
   "source": []
  }
 ],
 "metadata": {
  "kernelspec": {
   "display_name": "Python 3",
   "language": "python",
   "name": "python3"
  },
  "language_info": {
   "codemirror_mode": {
    "name": "ipython",
    "version": 3
   },
   "file_extension": ".py",
   "mimetype": "text/x-python",
   "name": "python",
   "nbconvert_exporter": "python",
   "pygments_lexer": "ipython3",
   "version": "3.7.6"
  }
 },
 "nbformat": 4,
 "nbformat_minor": 4
}
