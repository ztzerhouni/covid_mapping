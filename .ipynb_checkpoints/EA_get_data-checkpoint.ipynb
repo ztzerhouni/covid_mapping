{
 "cells": [
  {
   "cell_type": "code",
   "execution_count": 45,
   "metadata": {},
   "outputs": [],
   "source": [
    "import pandas as pd\n",
    "from calendar import Calendar, monthrange\n",
    "from datetime import datetime, timedelta"
   ]
  },
  {
   "cell_type": "code",
   "execution_count": 66,
   "metadata": {},
   "outputs": [],
   "source": [
    "import GetOldTweets3 as got\n",
    "def get_tweets(start, stop):\n",
    "    tweetCriteria = got.manager.TweetCriteria().setQuerySearch('covid OR coronavirus')\\\n",
    "                                                .setSince(start)\\\n",
    "                                                .setUntil(stop)\\\n",
    "                                                .setMaxTweets(1000)\\\n",
    "                                                .setNear(\"Houston\")\\\n",
    "                                                .setWithin(\"50mi\")\n",
    "    tweet = got.manager.TweetManager.getTweets(tweetCriteria)\n",
    "    text_tweets = [[tw.date, tw.username, tw.text, tw.retweets, tw.favorites, tw.mentions,\n",
    "                tw.hashtags, tw.geo] for tw in tweet]\n",
    "\n",
    "    df_city = pd.DataFrame(text_tweets, columns = ['date', 'user', 'text', 'retweets', 'favorites', \n",
    "                                               'mentions','hashtags', 'geolocation'])\n",
    "    df_city.to_csv(start +'.csv')\n",
    "    return df_city\n",
    "#print(tweet.text)"
   ]
  },
  {
   "cell_type": "code",
   "execution_count": 67,
   "metadata": {},
   "outputs": [
    {
     "name": "stdout",
     "output_type": "stream",
     "text": [
      "2020-04-01 00:00:00\n",
      "2020-04-08 00:00:00\n",
      "(1000, 8)\n",
      "2020-04-08 00:00:00\n",
      "2020-04-15 00:00:00\n",
      "(1000, 8)\n",
      "2020-04-15 00:00:00\n",
      "2020-04-22 00:00:00\n",
      "(1000, 8)\n",
      "2020-04-22 00:00:00\n",
      "2020-04-29 00:00:00\n",
      "(816, 8)\n",
      "2020-04-29 00:00:00\n",
      "2020-05-06 00:00:00\n",
      "(718, 8)\n",
      "2020-05-06 00:00:00\n",
      "2020-05-13 00:00:00\n",
      "(612, 8)\n",
      "2020-05-13 00:00:00\n",
      "2020-05-20 00:00:00\n",
      "(632, 8)\n",
      "2020-05-20 00:00:00\n",
      "2020-05-27 00:00:00\n",
      "(571, 8)\n",
      "2020-05-27 00:00:00\n",
      "2020-06-03 00:00:00\n",
      "(533, 8)\n",
      "2020-06-03 00:00:00\n",
      "2020-06-10 00:00:00\n",
      "(426, 8)\n",
      "2020-06-10 00:00:00\n",
      "2020-06-17 00:00:00\n",
      "(603, 8)\n",
      "2020-06-17 00:00:00\n",
      "2020-06-24 00:00:00\n",
      "(806, 8)\n",
      "2020-06-24 00:00:00\n",
      "2020-07-01 00:00:00\n",
      "(1000, 8)\n"
     ]
    }
   ],
   "source": [
    "beginning_date = \"2020-04-01\"\n",
    "end_date = \"2020-06-29\"\n",
    "\n",
    "beginning = datetime.strptime(beginning_date, \"%Y-%m-%d\")\n",
    "end = datetime.strptime(end_date, \"%Y-%m-%d\")\n",
    "\n",
    "while beginning < end:\n",
    "    start = beginning\n",
    "    stop = start + timedelta(days=7)\n",
    "    print(start)\n",
    "    print(stop)\n",
    "    hold_df = get_tweets(str(start)[0:10], str(stop)[0:10])\n",
    "    print(hold_df.shape)\n",
    "    beginning = beginning + timedelta(days=7)"
   ]
  }
 ],
 "metadata": {
  "kernelspec": {
   "display_name": "Python 3",
   "language": "python",
   "name": "python3"
  },
  "language_info": {
   "codemirror_mode": {
    "name": "ipython",
    "version": 3
   },
   "file_extension": ".py",
   "mimetype": "text/x-python",
   "name": "python",
   "nbconvert_exporter": "python",
   "pygments_lexer": "ipython3",
   "version": "3.7.6"
  }
 },
 "nbformat": 4,
 "nbformat_minor": 4
}
