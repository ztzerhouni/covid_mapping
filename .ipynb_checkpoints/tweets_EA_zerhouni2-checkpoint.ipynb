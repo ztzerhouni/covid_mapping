{
 "cells": [
  {
   "cell_type": "code",
   "execution_count": 1,
   "metadata": {},
   "outputs": [],
   "source": [
    "import numpy as np\n",
    "import pandas as pd\n",
    "import GetOldTweets3 as got\n",
    "import time\n",
    "from calendar import Calendar, monthrange\n",
    "from datetime import datetime, timedelta"
   ]
  },
  {
   "cell_type": "code",
   "execution_count": 2,
   "metadata": {},
   "outputs": [],
   "source": [
    "def get_tweets(start, stop):\n",
    "    tweetCriteria = got.manager.TweetCriteria().setQuerySearch('covid OR coronavirus')\\\n",
    "                                                .setSince(start)\\\n",
    "                                                .setUntil(stop)\\\n",
    "                                                .setMaxTweets(1000)\\\n",
    "                                                .setNear(\"32.842557, -96.020077\")\\\n",
    "                                                .setWithin(\"100km\")\n",
    "    tweet = got.manager.TweetManager.getTweets(tweetCriteria)\n",
    "    text_tweets = [[tw.date, tw.username, tw.text, tw.retweets, tw.favorites, tw.mentions,\n",
    "                tw.hashtags, tw.geo] for tw in tweet]\n",
    "    df_city = pd.DataFrame(text_tweets, columns = ['date', 'user', 'text', 'retweets', 'favorites', \n",
    "                                               'mentions','hashtags', 'geolocation'])\n",
    "    df_city.to_csv('zak_data/' + start + '.csv', index=False)\n",
    "    return df_city"
   ]
  },
  {
   "cell_type": "code",
   "execution_count": null,
   "metadata": {},
   "outputs": [],
   "source": [
    "beginning_date = \"2020-03-01\"\n",
    "end_date = \"2020-09-06\"\n",
    "\n",
    "beginning = datetime.strptime(beginning_date, \"%Y-%m-%d\")\n",
    "end = datetime.strptime(end_date, \"%Y-%m-%d\")\n",
    "df = pd.DataFrame()\n",
    "while beginning < end:\n",
    "    start = beginning\n",
    "    stop = start + timedelta(days=7)\n",
    "    print(start)\n",
    "    print(stop)\n",
    "    hold_df = get_tweets(str(start)[0:10], str(stop)[0:10])\n",
    "    df = pd.concat([df,hold_df])\n",
    "    print(hold_df.shape)\n",
    "    beginning = beginning + timedelta(days=7)"
   ]
  }
 ],
 "metadata": {
  "kernelspec": {
   "display_name": "Python 3",
   "language": "python",
   "name": "python3"
  },
  "language_info": {
   "codemirror_mode": {
    "name": "ipython",
    "version": 3
   },
   "file_extension": ".py",
   "mimetype": "text/x-python",
   "name": "python",
   "nbconvert_exporter": "python",
   "pygments_lexer": "ipython3",
   "version": "3.7.7"
  }
 },
 "nbformat": 4,
 "nbformat_minor": 4
}
