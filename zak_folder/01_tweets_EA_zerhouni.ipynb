{
 "cells": [
  {
   "cell_type": "code",
   "execution_count": 2,
   "metadata": {},
   "outputs": [],
   "source": [
    "import numpy as np\n",
    "import pandas as pd\n",
    "import GetOldTweets3 as got\n",
    "import time\n",
    "from calendar import Calendar, monthrange\n",
    "from datetime import datetime, timedelta"
   ]
  },
  {
   "cell_type": "code",
   "execution_count": 2,
   "metadata": {},
   "outputs": [],
   "source": [
    "def get_tweets(start, stop):\n",
    "    tweetCriteria = got.manager.TweetCriteria().setQuerySearch('covid OR coronavirus')\\\n",
    "                                                .setSince(start)\\\n",
    "                                                .setUntil(stop)\\\n",
    "                                                .setMaxTweets(1000)\\\n",
    "                                                .setNear(\"32.842557, -96.020077\")\\\n",
    "                                                .setWithin(\"100km\")\n",
    "    tweet = got.manager.TweetManager.getTweets(tweetCriteria)\n",
    "    text_tweets = [[tw.date, tw.username, tw.text, tw.retweets, tw.favorites, tw.mentions,\n",
    "                tw.hashtags, tw.geo] for tw in tweet]\n",
    "    df_city = pd.DataFrame(text_tweets, columns = ['date', 'user', 'text', 'retweets', 'favorites', \n",
    "                                               'mentions','hashtags', 'geolocation'])\n",
    "    df_city.to_csv('zak_data/' + start + '.csv', index=False)\n",
    "    return df_city"
   ]
  },
  {
   "cell_type": "code",
   "execution_count": 3,
   "metadata": {},
   "outputs": [
    {
     "name": "stdout",
     "output_type": "stream",
     "text": [
      "2020-06-07 00:00:00\n",
      "2020-06-14 00:00:00\n",
      "(642, 8)\n",
      "2020-06-14 00:00:00\n",
      "2020-06-21 00:00:00\n",
      "(925, 8)\n",
      "2020-06-21 00:00:00\n",
      "2020-06-28 00:00:00\n",
      "(1000, 8)\n",
      "2020-06-28 00:00:00\n",
      "2020-07-05 00:00:00\n",
      "(1000, 8)\n",
      "2020-07-05 00:00:00\n",
      "2020-07-12 00:00:00\n",
      "(1000, 8)\n",
      "2020-07-12 00:00:00\n",
      "2020-07-19 00:00:00\n",
      "(1000, 8)\n",
      "2020-07-19 00:00:00\n",
      "2020-07-26 00:00:00\n",
      "(1000, 8)\n",
      "2020-07-26 00:00:00\n",
      "2020-08-02 00:00:00\n",
      "(968, 8)\n",
      "2020-08-02 00:00:00\n",
      "2020-08-09 00:00:00\n",
      "(779, 8)\n",
      "2020-08-09 00:00:00\n",
      "2020-08-16 00:00:00\n",
      "(722, 8)\n",
      "2020-08-16 00:00:00\n",
      "2020-08-23 00:00:00\n",
      "(593, 8)\n",
      "2020-08-23 00:00:00\n",
      "2020-08-30 00:00:00\n",
      "(550, 8)\n",
      "2020-08-30 00:00:00\n",
      "2020-09-06 00:00:00\n",
      "(1000, 8)\n"
     ]
    }
   ],
   "source": [
    "beginning_date = \"2020-06-07\"\n",
    "end_date = \"2020-09-06\"\n",
    "\n",
    "beginning = datetime.strptime(beginning_date, \"%Y-%m-%d\")\n",
    "end = datetime.strptime(end_date, \"%Y-%m-%d\")\n",
    "df = pd.DataFrame()\n",
    "while beginning < end:\n",
    "    start = beginning\n",
    "    stop = start + timedelta(days=7)\n",
    "    print(start)\n",
    "    print(stop)\n",
    "    hold_df = get_tweets(str(start)[0:10], str(stop)[0:10])\n",
    "    df = pd.concat([df,hold_df])\n",
    "    print(hold_df.shape)\n",
    "    beginning = beginning + timedelta(days=7)"
   ]
  },
  {
   "cell_type": "code",
   "execution_count": 4,
   "metadata": {},
   "outputs": [],
   "source": [
    "from os import listdir"
   ]
  },
  {
   "cell_type": "code",
   "execution_count": 6,
   "metadata": {},
   "outputs": [],
   "source": [
    "files = [f for f in listdir(\"zak_data\")]"
   ]
  },
  {
   "cell_type": "code",
   "execution_count": 8,
   "metadata": {},
   "outputs": [
    {
     "data": {
      "text/plain": [
       "['2020-05-24.csv',\n",
       " '2020-05-31.csv',\n",
       " '2020-07-19.csv',\n",
       " '2020-07-26.csv',\n",
       " '2020-04-05.csv',\n",
       " '2020-06-28.csv',\n",
       " '2020-06-14.csv',\n",
       " '2020-04-12.csv',\n",
       " '2020-08-16.csv',\n",
       " '2020-08-02.csv',\n",
       " '2020-06-07.csv',\n",
       " '2020-03-22.csv',\n",
       " '2020-03-08.csv',\n",
       " '2020-04-19.csv',\n",
       " '2020-08-30.csv',\n",
       " '2020-06-21.csv',\n",
       " '2020-04-26.csv',\n",
       " '2020-08-23.csv',\n",
       " '2020-03-01.csv',\n",
       " '2020-03-15.csv',\n",
       " '2020-03-29.csv',\n",
       " '2020-08-09.csv',\n",
       " '.ipynb_checkpoints',\n",
       " '2020-05-10.csv',\n",
       " '2020-07-05.csv',\n",
       " '2020-05-03.csv',\n",
       " '2020-05-17.csv',\n",
       " '2020-07-12.csv']"
      ]
     },
     "execution_count": 8,
     "metadata": {},
     "output_type": "execute_result"
    }
   ],
   "source": [
    "for f in files:\n",
    "    df = pd."
   ]
  },
  {
   "cell_type": "code",
   "execution_count": 1,
   "metadata": {},
   "outputs": [
    {
     "ename": "NameError",
     "evalue": "name 'pd' is not defined",
     "output_type": "error",
     "traceback": [
      "\u001b[0;31m---------------------------------------------------------------------------\u001b[0m",
      "\u001b[0;31mNameError\u001b[0m                                 Traceback (most recent call last)",
      "\u001b[0;32m<ipython-input-1-887979fb2b20>\u001b[0m in \u001b[0;36m<module>\u001b[0;34m\u001b[0m\n\u001b[0;32m----> 1\u001b[0;31m \u001b[0mdallas5000\u001b[0m \u001b[0;34m=\u001b[0m \u001b[0mpd\u001b[0m\u001b[0;34m.\u001b[0m\u001b[0mread\u001b[0m\u001b[0;34m(\u001b[0m\u001b[0;34m\"Dlass_FW_5000_Aug_29\"\u001b[0m\u001b[0;34m)\u001b[0m\u001b[0;34m\u001b[0m\u001b[0;34m\u001b[0m\u001b[0m\n\u001b[0m",
      "\u001b[0;31mNameError\u001b[0m: name 'pd' is not defined"
     ]
    }
   ],
   "source": []
  },
  {
   "cell_type": "code",
   "execution_count": null,
   "metadata": {},
   "outputs": [],
   "source": [
    "beginning_date = \"2020-08-07\"\n",
    "end_date = \"2020-09-06\"\n",
    "\n",
    "beginning = datetime.strptime(beginning_date, \"%Y-%m-%d\")\n",
    "end = datetime.strptime(end_date, \"%Y-%m-%d\")\n",
    "df = pd.DataFrame()\n",
    "while beginning < end:\n",
    "    start = beginning\n",
    "    stop = start + timedelta(days=1)\n",
    "    print(start)\n",
    "    print(stop)\n",
    "    hold_df = get_tweets(str(start)[0:10], str(stop)[0:10])\n",
    "    df = pd.concat([df,hold_df])\n",
    "    print(hold_df.shape)\n",
    "    beginning = beginning + timedelta(days=7)"
   ]
  }
 ],
 "metadata": {
  "kernelspec": {
   "display_name": "Python 3",
   "language": "python",
   "name": "python3"
  },
  "language_info": {
   "codemirror_mode": {
    "name": "ipython",
    "version": 3
   },
   "file_extension": ".py",
   "mimetype": "text/x-python",
   "name": "python",
   "nbconvert_exporter": "python",
   "pygments_lexer": "ipython3",
   "version": "3.7.7"
  }
 },
 "nbformat": 4,
 "nbformat_minor": 4
}
